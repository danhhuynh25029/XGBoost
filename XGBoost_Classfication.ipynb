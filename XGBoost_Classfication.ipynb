{
  "cells": [
    {
      "cell_type": "markdown",
      "id": "d1d0c8fe",
      "metadata": {
        "id": "d1d0c8fe"
      },
      "source": [
        "### Mô tả bộ dữ liệu\n",
        "* **Link tải** : https://www.kaggle.com/fedesoriano/stroke-prediction-dataset\n",
        "* Bộ dữ liệu dùng trong việc dự đoán xem một người nào đó có nguy cơ mắc bệnh đột quỵ hay không.\n",
        "* **Bộ dữ liệu gồm 12 cột**:\n",
        "    * **Cột id** : Chưa mã người bệnh\n",
        "    * **Cột gender** : chứa thông tin về giới tính của một người.\n",
        "    * **Cột age** : độ tuổi của người bệnh.\n",
        "    * **Cột hypertension** : Hội chứng cao huyết áp.\n",
        "    * **Cột heart_disease** : Bệnh đau tim.\n",
        "    * **Cột ever_married** : Trạng thái hôn nhân.\n",
        "    * **Cột work_type** : loại công việc.\n",
        "    * **Cột Residence_type** : loại nhà ở.\n",
        "    * **Cột avg_glucose_level** : mức độ glucozo\n",
        "    * **Cột bmi** : Chỉ số BMI (Body Mass Index) hay còn gọi là chỉ số khối cơ thể, chỉ số thể trọng, là một công cụ thường được sử dụng để đo lượng mỡ trong cơ thể. \n",
        "    * **Cột smoking status** : Tình trạng hút thuốc.\n",
        "    * **Cột stroke** : xem người đó có nguy cơ bị đột quỵ hay không.\n"
      ]
    },
    {
      "cell_type": "code",
      "execution_count": 2,
      "id": "BVo-pxTag00U",
      "metadata": {
        "id": "BVo-pxTag00U"
      },
      "outputs": [],
      "source": [
        "# !wget https://www.kaggle.com/fedesoriano/stroke-prediction-dataset/download"
      ]
    },
    {
      "cell_type": "code",
      "execution_count": 3,
      "id": "5560449d",
      "metadata": {
        "colab": {
          "base_uri": "https://localhost:8080/",
          "height": 513
        },
        "id": "5560449d",
        "outputId": "2eaff253-e7ba-44a4-fbff-d28c4751d6ee"
      },
      "outputs": [
        {
          "output_type": "execute_result",
          "data": {
            "text/html": [
              "<div>\n",
              "<style scoped>\n",
              "    .dataframe tbody tr th:only-of-type {\n",
              "        vertical-align: middle;\n",
              "    }\n",
              "\n",
              "    .dataframe tbody tr th {\n",
              "        vertical-align: top;\n",
              "    }\n",
              "\n",
              "    .dataframe thead th {\n",
              "        text-align: right;\n",
              "    }\n",
              "</style>\n",
              "<table border=\"1\" class=\"dataframe\">\n",
              "  <thead>\n",
              "    <tr style=\"text-align: right;\">\n",
              "      <th></th>\n",
              "      <th>id</th>\n",
              "      <th>gender</th>\n",
              "      <th>age</th>\n",
              "      <th>hypertension</th>\n",
              "      <th>heart_disease</th>\n",
              "      <th>ever_married</th>\n",
              "      <th>work_type</th>\n",
              "      <th>Residence_type</th>\n",
              "      <th>avg_glucose_level</th>\n",
              "      <th>bmi</th>\n",
              "      <th>smoking_status</th>\n",
              "      <th>stroke</th>\n",
              "    </tr>\n",
              "  </thead>\n",
              "  <tbody>\n",
              "    <tr>\n",
              "      <th>0</th>\n",
              "      <td>9046</td>\n",
              "      <td>Male</td>\n",
              "      <td>67.0</td>\n",
              "      <td>0</td>\n",
              "      <td>1</td>\n",
              "      <td>Yes</td>\n",
              "      <td>Private</td>\n",
              "      <td>Urban</td>\n",
              "      <td>228.69</td>\n",
              "      <td>36.6</td>\n",
              "      <td>formerly smoked</td>\n",
              "      <td>1</td>\n",
              "    </tr>\n",
              "    <tr>\n",
              "      <th>1</th>\n",
              "      <td>51676</td>\n",
              "      <td>Female</td>\n",
              "      <td>61.0</td>\n",
              "      <td>0</td>\n",
              "      <td>0</td>\n",
              "      <td>Yes</td>\n",
              "      <td>Self-employed</td>\n",
              "      <td>Rural</td>\n",
              "      <td>202.21</td>\n",
              "      <td>NaN</td>\n",
              "      <td>never smoked</td>\n",
              "      <td>1</td>\n",
              "    </tr>\n",
              "    <tr>\n",
              "      <th>2</th>\n",
              "      <td>31112</td>\n",
              "      <td>Male</td>\n",
              "      <td>80.0</td>\n",
              "      <td>0</td>\n",
              "      <td>1</td>\n",
              "      <td>Yes</td>\n",
              "      <td>Private</td>\n",
              "      <td>Rural</td>\n",
              "      <td>105.92</td>\n",
              "      <td>32.5</td>\n",
              "      <td>never smoked</td>\n",
              "      <td>1</td>\n",
              "    </tr>\n",
              "    <tr>\n",
              "      <th>3</th>\n",
              "      <td>60182</td>\n",
              "      <td>Female</td>\n",
              "      <td>49.0</td>\n",
              "      <td>0</td>\n",
              "      <td>0</td>\n",
              "      <td>Yes</td>\n",
              "      <td>Private</td>\n",
              "      <td>Urban</td>\n",
              "      <td>171.23</td>\n",
              "      <td>34.4</td>\n",
              "      <td>smokes</td>\n",
              "      <td>1</td>\n",
              "    </tr>\n",
              "    <tr>\n",
              "      <th>4</th>\n",
              "      <td>1665</td>\n",
              "      <td>Female</td>\n",
              "      <td>79.0</td>\n",
              "      <td>1</td>\n",
              "      <td>0</td>\n",
              "      <td>Yes</td>\n",
              "      <td>Self-employed</td>\n",
              "      <td>Rural</td>\n",
              "      <td>174.12</td>\n",
              "      <td>24.0</td>\n",
              "      <td>never smoked</td>\n",
              "      <td>1</td>\n",
              "    </tr>\n",
              "    <tr>\n",
              "      <th>...</th>\n",
              "      <td>...</td>\n",
              "      <td>...</td>\n",
              "      <td>...</td>\n",
              "      <td>...</td>\n",
              "      <td>...</td>\n",
              "      <td>...</td>\n",
              "      <td>...</td>\n",
              "      <td>...</td>\n",
              "      <td>...</td>\n",
              "      <td>...</td>\n",
              "      <td>...</td>\n",
              "      <td>...</td>\n",
              "    </tr>\n",
              "    <tr>\n",
              "      <th>5105</th>\n",
              "      <td>18234</td>\n",
              "      <td>Female</td>\n",
              "      <td>80.0</td>\n",
              "      <td>1</td>\n",
              "      <td>0</td>\n",
              "      <td>Yes</td>\n",
              "      <td>Private</td>\n",
              "      <td>Urban</td>\n",
              "      <td>83.75</td>\n",
              "      <td>NaN</td>\n",
              "      <td>never smoked</td>\n",
              "      <td>0</td>\n",
              "    </tr>\n",
              "    <tr>\n",
              "      <th>5106</th>\n",
              "      <td>44873</td>\n",
              "      <td>Female</td>\n",
              "      <td>81.0</td>\n",
              "      <td>0</td>\n",
              "      <td>0</td>\n",
              "      <td>Yes</td>\n",
              "      <td>Self-employed</td>\n",
              "      <td>Urban</td>\n",
              "      <td>125.20</td>\n",
              "      <td>40.0</td>\n",
              "      <td>never smoked</td>\n",
              "      <td>0</td>\n",
              "    </tr>\n",
              "    <tr>\n",
              "      <th>5107</th>\n",
              "      <td>19723</td>\n",
              "      <td>Female</td>\n",
              "      <td>35.0</td>\n",
              "      <td>0</td>\n",
              "      <td>0</td>\n",
              "      <td>Yes</td>\n",
              "      <td>Self-employed</td>\n",
              "      <td>Rural</td>\n",
              "      <td>82.99</td>\n",
              "      <td>30.6</td>\n",
              "      <td>never smoked</td>\n",
              "      <td>0</td>\n",
              "    </tr>\n",
              "    <tr>\n",
              "      <th>5108</th>\n",
              "      <td>37544</td>\n",
              "      <td>Male</td>\n",
              "      <td>51.0</td>\n",
              "      <td>0</td>\n",
              "      <td>0</td>\n",
              "      <td>Yes</td>\n",
              "      <td>Private</td>\n",
              "      <td>Rural</td>\n",
              "      <td>166.29</td>\n",
              "      <td>25.6</td>\n",
              "      <td>formerly smoked</td>\n",
              "      <td>0</td>\n",
              "    </tr>\n",
              "    <tr>\n",
              "      <th>5109</th>\n",
              "      <td>44679</td>\n",
              "      <td>Female</td>\n",
              "      <td>44.0</td>\n",
              "      <td>0</td>\n",
              "      <td>0</td>\n",
              "      <td>Yes</td>\n",
              "      <td>Govt_job</td>\n",
              "      <td>Urban</td>\n",
              "      <td>85.28</td>\n",
              "      <td>26.2</td>\n",
              "      <td>Unknown</td>\n",
              "      <td>0</td>\n",
              "    </tr>\n",
              "  </tbody>\n",
              "</table>\n",
              "<p>5110 rows × 12 columns</p>\n",
              "</div>"
            ],
            "text/plain": [
              "         id  gender   age  ...   bmi   smoking_status stroke\n",
              "0      9046    Male  67.0  ...  36.6  formerly smoked      1\n",
              "1     51676  Female  61.0  ...   NaN     never smoked      1\n",
              "2     31112    Male  80.0  ...  32.5     never smoked      1\n",
              "3     60182  Female  49.0  ...  34.4           smokes      1\n",
              "4      1665  Female  79.0  ...  24.0     never smoked      1\n",
              "...     ...     ...   ...  ...   ...              ...    ...\n",
              "5105  18234  Female  80.0  ...   NaN     never smoked      0\n",
              "5106  44873  Female  81.0  ...  40.0     never smoked      0\n",
              "5107  19723  Female  35.0  ...  30.6     never smoked      0\n",
              "5108  37544    Male  51.0  ...  25.6  formerly smoked      0\n",
              "5109  44679  Female  44.0  ...  26.2          Unknown      0\n",
              "\n",
              "[5110 rows x 12 columns]"
            ]
          },
          "metadata": {},
          "execution_count": 3
        }
      ],
      "source": [
        "import pandas as pd\n",
        "import matplotlib.pyplot as plt\n",
        "import seaborn as sns\n",
        "import numpy as np\n",
        "df = pd.read_csv('/content/stroke.csv')\n",
        "df"
      ]
    },
    {
      "cell_type": "markdown",
      "id": "ec9c70cd",
      "metadata": {
        "id": "ec9c70cd"
      },
      "source": [
        "### Thông tin về kiểu dữ liệu"
      ]
    },
    {
      "cell_type": "code",
      "execution_count": 4,
      "id": "7aec881d",
      "metadata": {
        "colab": {
          "base_uri": "https://localhost:8080/"
        },
        "id": "7aec881d",
        "outputId": "cd4772c3-938b-4949-83fd-988f72774955"
      },
      "outputs": [
        {
          "output_type": "stream",
          "name": "stdout",
          "text": [
            "<class 'pandas.core.frame.DataFrame'>\n",
            "RangeIndex: 5110 entries, 0 to 5109\n",
            "Data columns (total 12 columns):\n",
            " #   Column             Non-Null Count  Dtype  \n",
            "---  ------             --------------  -----  \n",
            " 0   id                 5110 non-null   int64  \n",
            " 1   gender             5110 non-null   object \n",
            " 2   age                5110 non-null   float64\n",
            " 3   hypertension       5110 non-null   int64  \n",
            " 4   heart_disease      5110 non-null   int64  \n",
            " 5   ever_married       5110 non-null   object \n",
            " 6   work_type          5110 non-null   object \n",
            " 7   Residence_type     5110 non-null   object \n",
            " 8   avg_glucose_level  5110 non-null   float64\n",
            " 9   bmi                4909 non-null   float64\n",
            " 10  smoking_status     5110 non-null   object \n",
            " 11  stroke             5110 non-null   int64  \n",
            "dtypes: float64(3), int64(4), object(5)\n",
            "memory usage: 479.2+ KB\n",
            "None\n"
          ]
        }
      ],
      "source": [
        "print(df.info())"
      ]
    },
    {
      "cell_type": "markdown",
      "id": "886b795a",
      "metadata": {
        "id": "886b795a"
      },
      "source": [
        "### Kiểm tra số lượng mẫu dữ liệu"
      ]
    },
    {
      "cell_type": "code",
      "execution_count": 5,
      "id": "63dbac76",
      "metadata": {
        "colab": {
          "base_uri": "https://localhost:8080/",
          "height": 295
        },
        "id": "63dbac76",
        "outputId": "f33054fc-07f3-496e-9715-46fdd67ab71c"
      },
      "outputs": [
        {
          "output_type": "display_data",
          "data": {
            "image/png": "[encoded data removed]",
            "text/plain": [
              "<Figure size 432x288 with 2 Axes>"
            ]
          },
          "metadata": {
            "needs_background": "light"
          }
        }
      ],
      "source": [
        "col = df.columns\n",
        "c = df.count()\n",
        "# plt.barh(col,c)\n",
        "plt.title('Missing Value Status',fontweight='bold')\n",
        "ax = sns.heatmap(df.isna().sum().to_frame(),annot=True,fmt='d',cmap='vlag')\n",
        "ax.set_xlabel('Amount Missing')\n",
        "plt.show()\n",
        "# ta thấy ở cột bmi có một số mẫu đã bị thiếu ta sẽ loại bỏ các mẫu dữ liệu đó"
      ]
    },
    {
      "cell_type": "markdown",
      "id": "x_mtVfiZBsEF",
      "metadata": {
        "id": "x_mtVfiZBsEF"
      },
      "source": [
        "#### **Kết luận :** Bộ dữ liệu chứa 201 mẫu thiếu giá trị.Chúng ta cần loại bỏ các mẫu đó ra khỏi tập dataset"
      ]
    },
    {
      "cell_type": "code",
      "execution_count": 6,
      "id": "a7d826d2",
      "metadata": {
        "colab": {
          "base_uri": "https://localhost:8080/",
          "height": 282
        },
        "id": "a7d826d2",
        "outputId": "00b1c41c-6647-45bb-ee03-98afc1ac0c94"
      },
      "outputs": [
        {
          "output_type": "execute_result",
          "data": {
            "text/plain": [
              "<BarContainer object of 12 artists>"
            ]
          },
          "metadata": {},
          "execution_count": 6
        },
        {
          "output_type": "display_data",
          "data": {
            "image/png": "[encoded data removed]",
            "text/plain": [
              "<Figure size 432x288 with 1 Axes>"
            ]
          },
          "metadata": {
            "needs_background": "light"
          }
        }
      ],
      "source": [
        "# Sau khi loại bỏ những mẫu dữ liệu bị thiếu\n",
        "df = df.dropna()\n",
        "plt.barh(col,df.count())"
      ]
    },
    {
      "cell_type": "code",
      "execution_count": 7,
      "id": "P6JE4EDjfhok",
      "metadata": {
        "colab": {
          "base_uri": "https://localhost:8080/",
          "height": 282
        },
        "id": "P6JE4EDjfhok",
        "outputId": "15154ec8-aab3-4377-9de4-64ea5d38848d"
      },
      "outputs": [
        {
          "output_type": "execute_result",
          "data": {
            "text/plain": [
              "<BarContainer object of 2 artists>"
            ]
          },
          "metadata": {},
          "execution_count": 7
        },
        {
          "output_type": "display_data",
          "data": {
            "image/png": "[encoded data removed]",
            "text/plain": [
              "<Figure size 432x288 with 1 Axes>"
            ]
          },
          "metadata": {
            "needs_background": "light"
          }
        }
      ],
      "source": [
        "t = df[df['stroke'] == 1]\n",
        "f = df[df['stroke'] == 0]\n",
        "plt.bar(['yes','no'],[t.count()[0],f.count()[0]],color=('steelblue','lightblue'))\n",
        "# Ta thấy được bộ dữ liệu khá mất cân bằng "
      ]
    },
    {
      "cell_type": "markdown",
      "id": "keIgnuISBcnI",
      "metadata": {
        "id": "keIgnuISBcnI"
      },
      "source": [
        "#### **Kết luận :** Qua biểu đồ trên chúng ta thấy được bộ dữ liệu đang mất cân bằng"
      ]
    },
    {
      "cell_type": "code",
      "execution_count": 8,
      "id": "cJyB_o6sCEuR",
      "metadata": {
        "colab": {
          "base_uri": "https://localhost:8080/",
          "height": 283
        },
        "id": "cJyB_o6sCEuR",
        "outputId": "98657ce7-2ae1-4fc0-c113-aa004a675a63"
      },
      "outputs": [
        {
          "output_type": "execute_result",
          "data": {
            "text/plain": [
              "<BarContainer object of 2 artists>"
            ]
          },
          "metadata": {},
          "execution_count": 8
        },
        {
          "output_type": "display_data",
          "data": {
            "image/png": "[encoded data removed]",
            "text/plain": [
              "<Figure size 432x288 with 1 Axes>"
            ]
          },
          "metadata": {
            "needs_background": "light"
          }
        }
      ],
      "source": [
        "f = df[df['gender'] == 'Female']\n",
        "m = df[(df['gender'] == 'Male')]\n",
        "plt.bar(['female','male'],[f.count()[0],m.count()[0]],color=('pink','lightblue'))"
      ]
    },
    {
      "cell_type": "markdown",
      "id": "QU5g-lGFMj_5",
      "metadata": {
        "id": "QU5g-lGFMj_5"
      },
      "source": [
        "#### **Kết luận :**  Ta thấy số lượng nữ giới chiếm số lượng lớn hơn nam giới."
      ]
    },
    {
      "cell_type": "code",
      "execution_count": 9,
      "id": "a68bdcf8-b620-4826-8981-52c4a2dbfe5f",
      "metadata": {
        "colab": {
          "base_uri": "https://localhost:8080/",
          "height": 336
        },
        "id": "a68bdcf8-b620-4826-8981-52c4a2dbfe5f",
        "outputId": "55a0788f-bcbc-4816-fe25-2339caf29fd0"
      },
      "outputs": [
        {
          "output_type": "display_data",
          "data": {
            "image/png": "[encoded data removed]",
            "text/plain": [
              "<Figure size 720x360 with 1 Axes>"
            ]
          },
          "metadata": {
            "needs_background": "light"
          }
        }
      ],
      "source": [
        "stroke = df[df['stroke'] == 1]\n",
        "plt.figure(figsize=(10,5))\n",
        "sns.countplot(data=stroke,x='work_type',palette='cool');"
      ]
    },
    {
      "cell_type": "markdown",
      "id": "c90dc56c-c007-4425-9954-2fba2ae43d3e",
      "metadata": {
        "id": "c90dc56c-c007-4425-9954-2fba2ae43d3e"
      },
      "source": [
        "**Kết luận:** Người làm công việc private dễ mắc đột quỵ"
      ]
    },
    {
      "cell_type": "code",
      "execution_count": 10,
      "id": "7fb03f3e",
      "metadata": {
        "colab": {
          "base_uri": "https://localhost:8080/",
          "height": 335
        },
        "id": "7fb03f3e",
        "outputId": "b0837fd4-ae3c-4b15-e21c-d650a5f19005"
      },
      "outputs": [
        {
          "output_type": "display_data",
          "data": {
            "image/png": "[encoded data removed]",
            "text/plain": [
              "<Figure size 720x360 with 1 Axes>"
            ]
          },
          "metadata": {
            "needs_background": "light"
          }
        }
      ],
      "source": [
        "plt.figure(figsize=(10,5))\n",
        "sns.countplot(data=stroke,x='smoking_status',palette='cool');"
      ]
    },
    {
      "cell_type": "markdown",
      "id": "634fc7fc",
      "metadata": {
        "id": "634fc7fc"
      },
      "source": [
        "**Kết luận :** Những người hút thuốc và trước đây từng hút thuốc có nguy cơ đột quỵ"
      ]
    },
    {
      "cell_type": "code",
      "execution_count": 11,
      "id": "62caea7f",
      "metadata": {
        "colab": {
          "base_uri": "https://localhost:8080/",
          "height": 335
        },
        "id": "62caea7f",
        "outputId": "07c6e8a4-d64b-4426-dcad-b63d0a01b746"
      },
      "outputs": [
        {
          "output_type": "display_data",
          "data": {
            "image/png": "[encoded data removed]",
            "text/plain": [
              "<Figure size 720x360 with 1 Axes>"
            ]
          },
          "metadata": {
            "needs_background": "light"
          }
        }
      ],
      "source": [
        "plt.figure(figsize=(10,5))\n",
        "sns.countplot(data=stroke,x='Residence_type',palette='Greens');"
      ]
    },
    {
      "cell_type": "markdown",
      "id": "7e8a3233",
      "metadata": {
        "id": "7e8a3233"
      },
      "source": [
        "**Kết luận :** Loại hình cư trú không liên quan đến nguy cơ bị đột quỵ"
      ]
    },
    {
      "cell_type": "code",
      "execution_count": 12,
      "id": "3edd4def",
      "metadata": {
        "colab": {
          "base_uri": "https://localhost:8080/",
          "height": 335
        },
        "id": "3edd4def",
        "outputId": "fec4fb71-f0d8-4add-e34b-98cfa55f2d3a"
      },
      "outputs": [
        {
          "output_type": "display_data",
          "data": {
            "image/png": "[encoded data removed]",
            "text/plain": [
              "<Figure size 720x360 with 1 Axes>"
            ]
          },
          "metadata": {
            "needs_background": "light"
          }
        }
      ],
      "source": [
        "plt.figure(figsize=(10,5))\n",
        "sns.countplot(data=stroke,x='heart_disease',palette='Reds');"
      ]
    },
    {
      "cell_type": "markdown",
      "id": "cb446108",
      "metadata": {
        "id": "cb446108"
      },
      "source": [
        "**Kết luận :** Những người trước đây chưa từng mắc bệnh tim có nguy cơ đột quỵ cao hơn"
      ]
    },
    {
      "cell_type": "code",
      "execution_count": 13,
      "id": "68661847",
      "metadata": {
        "colab": {
          "base_uri": "https://localhost:8080/",
          "height": 334
        },
        "id": "68661847",
        "outputId": "de865e28-714a-42be-f438-784acb091a70"
      },
      "outputs": [
        {
          "output_type": "display_data",
          "data": {
            "image/png": "[encoded data removed]",
            "text/plain": [
              "<Figure size 720x360 with 1 Axes>"
            ]
          },
          "metadata": {
            "needs_background": "light"
          }
        }
      ],
      "source": [
        "plt.figure(figsize=(10,5))\n",
        "sns.countplot(data=stroke,x='hypertension',palette='Pastel2');"
      ]
    },
    {
      "cell_type": "markdown",
      "id": "7d96bae2",
      "metadata": {
        "id": "7d96bae2"
      },
      "source": [
        "**Kết luận :** Nhiều người bị đột quỵ do tăng huyết áp"
      ]
    },
    {
      "cell_type": "code",
      "execution_count": 14,
      "id": "zkshK3Jy_JWy",
      "metadata": {
        "colab": {
          "base_uri": "https://localhost:8080/",
          "height": 297
        },
        "id": "zkshK3Jy_JWy",
        "outputId": "e0b8f4cc-bda4-430d-c821-f2207554cfa2"
      },
      "outputs": [
        {
          "output_type": "display_data",
          "data": {
            "image/png": "[encoded data removed]",
            "text/plain": [
              "<Figure size 432x288 with 2 Axes>"
            ]
          },
          "metadata": {
            "needs_background": "light"
          }
        }
      ],
      "source": [
        "plt.subplot(2,1,1)\n",
        "plt.title('Stroke Sample Distribution Based On Bmi And Glucose Level')\n",
        "sns.scatterplot(x=df['avg_glucose_level'],y=df['bmi'],hue=df['stroke'])\n",
        "plt.subplot(2,1,2)\n",
        "plt.title('Stroke Sample Distribution Based On Bmi And Age')\n",
        "sns.scatterplot(x=df['age'],y=df['bmi'],hue=df['stroke'])\n",
        "plt.tight_layout()\n",
        "plt.show()"
      ]
    },
    {
      "cell_type": "markdown",
      "id": "X-iL5rMMAYNe",
      "metadata": {
        "id": "X-iL5rMMAYNe"
      },
      "source": [
        "#### **Kết luận :** Chúng ta thấy được những người mắc đột quỵ có mức bmi dưới 60 và kèm theo đó là tuổi già"
      ]
    },
    {
      "cell_type": "code",
      "execution_count": 15,
      "id": "IUv15zypLXNv",
      "metadata": {
        "colab": {
          "base_uri": "https://localhost:8080/",
          "height": 282
        },
        "id": "IUv15zypLXNv",
        "outputId": "7cb30aab-144e-4221-f8ae-fff4954f5b48"
      },
      "outputs": [
        {
          "output_type": "execute_result",
          "data": {
            "text/plain": [
              "<BarContainer object of 2 artists>"
            ]
          },
          "metadata": {},
          "execution_count": 15
        },
        {
          "output_type": "display_data",
          "data": {
            "image/png": "[encoded data removed]",
            "text/plain": [
              "<Figure size 432x288 with 1 Axes>"
            ]
          },
          "metadata": {
            "needs_background": "light"
          }
        }
      ],
      "source": [
        "female = df[(df['gender'] == 'Female') & (df['stroke'] == 1)]\n",
        "male = df[(df['gender'] == 'Male') & (df['stroke'] == 1)]\n",
        "plt.bar(['female','male'],[female.count()[0],male.count()[0]],color=('pink','lightblue'))"
      ]
    },
    {
      "cell_type": "markdown",
      "id": "b46b7431",
      "metadata": {
        "id": "b46b7431"
      },
      "source": [
        "**Kết luận :** Nữ giới thì có nguy cơ đột quỵ cao hơn nam giới"
      ]
    },
    {
      "cell_type": "code",
      "execution_count": 16,
      "id": "d76370a6",
      "metadata": {
        "colab": {
          "base_uri": "https://localhost:8080/",
          "height": 335
        },
        "id": "d76370a6",
        "outputId": "da4b36b3-68ca-4e8f-ceaf-f017fe6508e9"
      },
      "outputs": [
        {
          "output_type": "display_data",
          "data": {
            "image/png": "[encoded data removed]",
            "text/plain": [
              "<Figure size 720x360 with 1 Axes>"
            ]
          },
          "metadata": {
            "needs_background": "light"
          }
        }
      ],
      "source": [
        "plt.figure(figsize=(10,5))\n",
        "sns.countplot(data=stroke,x='ever_married',palette='inferno');"
      ]
    },
    {
      "cell_type": "markdown",
      "id": "21c800d1",
      "metadata": {
        "id": "21c800d1"
      },
      "source": [
        "**Kết luận :** Người đã kết hôn thì có nguy cơ đột quỵ cao hơn"
      ]
    },
    {
      "cell_type": "markdown",
      "id": "08ecd957",
      "metadata": {
        "id": "08ecd957"
      },
      "source": [
        "### **Đánh giá  dữ liệu :**\n",
        "Ta thấy dữ liệu có những cột dư thừa không liên quan lắm đến bệnh đột quy.Như việc ở nông thôn hay thành thị thì nó chả liên quan đến việc một người có nguy cơ đột quỵ hay không.\n",
        "#### Kêt luận :\n",
        "Chúng ta sẽ tiến hành loại bỏ những cột không cần thiết"
      ]
    },
    {
      "cell_type": "code",
      "execution_count": 17,
      "id": "9e57ad53",
      "metadata": {
        "colab": {
          "base_uri": "https://localhost:8080/",
          "height": 530
        },
        "id": "9e57ad53",
        "outputId": "51dcd4d0-7cf8-4aac-a64d-53e1f8511b18"
      },
      "outputs": [
        {
          "output_type": "stream",
          "name": "stderr",
          "text": [
            "/usr/local/lib/python3.7/dist-packages/pandas/core/frame.py:4174: SettingWithCopyWarning: \n",
            "A value is trying to be set on a copy of a slice from a DataFrame\n",
            "\n",
            "See the caveats in the documentation: https://pandas.pydata.org/pandas-docs/stable/user_guide/indexing.html#returning-a-view-versus-a-copy\n",
            "  errors=errors,\n"
          ]
        },
        {
          "output_type": "execute_result",
          "data": {
            "text/html": [
              "<div>\n",
              "<style scoped>\n",
              "    .dataframe tbody tr th:only-of-type {\n",
              "        vertical-align: middle;\n",
              "    }\n",
              "\n",
              "    .dataframe tbody tr th {\n",
              "        vertical-align: top;\n",
              "    }\n",
              "\n",
              "    .dataframe thead th {\n",
              "        text-align: right;\n",
              "    }\n",
              "</style>\n",
              "<table border=\"1\" class=\"dataframe\">\n",
              "  <thead>\n",
              "    <tr style=\"text-align: right;\">\n",
              "      <th></th>\n",
              "      <th>gender</th>\n",
              "      <th>age</th>\n",
              "      <th>hypertension</th>\n",
              "      <th>heart_disease</th>\n",
              "      <th>ever_married</th>\n",
              "      <th>work_type</th>\n",
              "      <th>avg_glucose_level</th>\n",
              "      <th>bmi</th>\n",
              "      <th>smoking_status</th>\n",
              "      <th>stroke</th>\n",
              "    </tr>\n",
              "  </thead>\n",
              "  <tbody>\n",
              "    <tr>\n",
              "      <th>0</th>\n",
              "      <td>Male</td>\n",
              "      <td>67.0</td>\n",
              "      <td>0</td>\n",
              "      <td>1</td>\n",
              "      <td>Yes</td>\n",
              "      <td>Private</td>\n",
              "      <td>228.69</td>\n",
              "      <td>36.6</td>\n",
              "      <td>formerly smoked</td>\n",
              "      <td>1</td>\n",
              "    </tr>\n",
              "    <tr>\n",
              "      <th>2</th>\n",
              "      <td>Male</td>\n",
              "      <td>80.0</td>\n",
              "      <td>0</td>\n",
              "      <td>1</td>\n",
              "      <td>Yes</td>\n",
              "      <td>Private</td>\n",
              "      <td>105.92</td>\n",
              "      <td>32.5</td>\n",
              "      <td>never smoked</td>\n",
              "      <td>1</td>\n",
              "    </tr>\n",
              "    <tr>\n",
              "      <th>3</th>\n",
              "      <td>Female</td>\n",
              "      <td>49.0</td>\n",
              "      <td>0</td>\n",
              "      <td>0</td>\n",
              "      <td>Yes</td>\n",
              "      <td>Private</td>\n",
              "      <td>171.23</td>\n",
              "      <td>34.4</td>\n",
              "      <td>smokes</td>\n",
              "      <td>1</td>\n",
              "    </tr>\n",
              "    <tr>\n",
              "      <th>4</th>\n",
              "      <td>Female</td>\n",
              "      <td>79.0</td>\n",
              "      <td>1</td>\n",
              "      <td>0</td>\n",
              "      <td>Yes</td>\n",
              "      <td>Self-employed</td>\n",
              "      <td>174.12</td>\n",
              "      <td>24.0</td>\n",
              "      <td>never smoked</td>\n",
              "      <td>1</td>\n",
              "    </tr>\n",
              "    <tr>\n",
              "      <th>5</th>\n",
              "      <td>Male</td>\n",
              "      <td>81.0</td>\n",
              "      <td>0</td>\n",
              "      <td>0</td>\n",
              "      <td>Yes</td>\n",
              "      <td>Private</td>\n",
              "      <td>186.21</td>\n",
              "      <td>29.0</td>\n",
              "      <td>formerly smoked</td>\n",
              "      <td>1</td>\n",
              "    </tr>\n",
              "    <tr>\n",
              "      <th>...</th>\n",
              "      <td>...</td>\n",
              "      <td>...</td>\n",
              "      <td>...</td>\n",
              "      <td>...</td>\n",
              "      <td>...</td>\n",
              "      <td>...</td>\n",
              "      <td>...</td>\n",
              "      <td>...</td>\n",
              "      <td>...</td>\n",
              "      <td>...</td>\n",
              "    </tr>\n",
              "    <tr>\n",
              "      <th>5104</th>\n",
              "      <td>Female</td>\n",
              "      <td>13.0</td>\n",
              "      <td>0</td>\n",
              "      <td>0</td>\n",
              "      <td>No</td>\n",
              "      <td>children</td>\n",
              "      <td>103.08</td>\n",
              "      <td>18.6</td>\n",
              "      <td>Unknown</td>\n",
              "      <td>0</td>\n",
              "    </tr>\n",
              "    <tr>\n",
              "      <th>5106</th>\n",
              "      <td>Female</td>\n",
              "      <td>81.0</td>\n",
              "      <td>0</td>\n",
              "      <td>0</td>\n",
              "      <td>Yes</td>\n",
              "      <td>Self-employed</td>\n",
              "      <td>125.20</td>\n",
              "      <td>40.0</td>\n",
              "      <td>never smoked</td>\n",
              "      <td>0</td>\n",
              "    </tr>\n",
              "    <tr>\n",
              "      <th>5107</th>\n",
              "      <td>Female</td>\n",
              "      <td>35.0</td>\n",
              "      <td>0</td>\n",
              "      <td>0</td>\n",
              "      <td>Yes</td>\n",
              "      <td>Self-employed</td>\n",
              "      <td>82.99</td>\n",
              "      <td>30.6</td>\n",
              "      <td>never smoked</td>\n",
              "      <td>0</td>\n",
              "    </tr>\n",
              "    <tr>\n",
              "      <th>5108</th>\n",
              "      <td>Male</td>\n",
              "      <td>51.0</td>\n",
              "      <td>0</td>\n",
              "      <td>0</td>\n",
              "      <td>Yes</td>\n",
              "      <td>Private</td>\n",
              "      <td>166.29</td>\n",
              "      <td>25.6</td>\n",
              "      <td>formerly smoked</td>\n",
              "      <td>0</td>\n",
              "    </tr>\n",
              "    <tr>\n",
              "      <th>5109</th>\n",
              "      <td>Female</td>\n",
              "      <td>44.0</td>\n",
              "      <td>0</td>\n",
              "      <td>0</td>\n",
              "      <td>Yes</td>\n",
              "      <td>Govt_job</td>\n",
              "      <td>85.28</td>\n",
              "      <td>26.2</td>\n",
              "      <td>Unknown</td>\n",
              "      <td>0</td>\n",
              "    </tr>\n",
              "  </tbody>\n",
              "</table>\n",
              "<p>4909 rows × 10 columns</p>\n",
              "</div>"
            ],
            "text/plain": [
              "      gender   age  hypertension  ...   bmi   smoking_status stroke\n",
              "0       Male  67.0             0  ...  36.6  formerly smoked      1\n",
              "2       Male  80.0             0  ...  32.5     never smoked      1\n",
              "3     Female  49.0             0  ...  34.4           smokes      1\n",
              "4     Female  79.0             1  ...  24.0     never smoked      1\n",
              "5       Male  81.0             0  ...  29.0  formerly smoked      1\n",
              "...      ...   ...           ...  ...   ...              ...    ...\n",
              "5104  Female  13.0             0  ...  18.6          Unknown      0\n",
              "5106  Female  81.0             0  ...  40.0     never smoked      0\n",
              "5107  Female  35.0             0  ...  30.6     never smoked      0\n",
              "5108    Male  51.0             0  ...  25.6  formerly smoked      0\n",
              "5109  Female  44.0             0  ...  26.2          Unknown      0\n",
              "\n",
              "[4909 rows x 10 columns]"
            ]
          },
          "metadata": {},
          "execution_count": 17
        }
      ],
      "source": [
        "df.drop(['Residence_type','id'], axis=1, inplace=True)\n",
        "# Dữ liệu sau khi xóa các cột không cần thiết\n",
        "df"
      ]
    },
    {
      "cell_type": "code",
      "execution_count": 18,
      "id": "634840a0",
      "metadata": {
        "colab": {
          "base_uri": "https://localhost:8080/",
          "height": 461
        },
        "id": "634840a0",
        "outputId": "75827bed-db25-4194-99c5-e5e805b1adeb"
      },
      "outputs": [
        {
          "output_type": "execute_result",
          "data": {
            "text/html": [
              "<div>\n",
              "<style scoped>\n",
              "    .dataframe tbody tr th:only-of-type {\n",
              "        vertical-align: middle;\n",
              "    }\n",
              "\n",
              "    .dataframe tbody tr th {\n",
              "        vertical-align: top;\n",
              "    }\n",
              "\n",
              "    .dataframe thead th {\n",
              "        text-align: right;\n",
              "    }\n",
              "</style>\n",
              "<table border=\"1\" class=\"dataframe\">\n",
              "  <thead>\n",
              "    <tr style=\"text-align: right;\">\n",
              "      <th></th>\n",
              "      <th>age</th>\n",
              "      <th>hypertension</th>\n",
              "      <th>heart_disease</th>\n",
              "      <th>avg_glucose_level</th>\n",
              "      <th>bmi</th>\n",
              "      <th>smoking_status_Unknown</th>\n",
              "      <th>smoking_status_formerly smoked</th>\n",
              "      <th>smoking_status_never smoked</th>\n",
              "      <th>smoking_status_smokes</th>\n",
              "      <th>gender_Female</th>\n",
              "      <th>gender_Male</th>\n",
              "      <th>gender_Other</th>\n",
              "      <th>ever_married_No</th>\n",
              "      <th>ever_married_Yes</th>\n",
              "      <th>work_type_Govt_job</th>\n",
              "      <th>work_type_Never_worked</th>\n",
              "      <th>work_type_Private</th>\n",
              "      <th>work_type_Self-employed</th>\n",
              "      <th>work_type_children</th>\n",
              "    </tr>\n",
              "  </thead>\n",
              "  <tbody>\n",
              "    <tr>\n",
              "      <th>0</th>\n",
              "      <td>67.0</td>\n",
              "      <td>0</td>\n",
              "      <td>1</td>\n",
              "      <td>228.69</td>\n",
              "      <td>36.6</td>\n",
              "      <td>0</td>\n",
              "      <td>1</td>\n",
              "      <td>0</td>\n",
              "      <td>0</td>\n",
              "      <td>0</td>\n",
              "      <td>1</td>\n",
              "      <td>0</td>\n",
              "      <td>0</td>\n",
              "      <td>1</td>\n",
              "      <td>0</td>\n",
              "      <td>0</td>\n",
              "      <td>1</td>\n",
              "      <td>0</td>\n",
              "      <td>0</td>\n",
              "    </tr>\n",
              "    <tr>\n",
              "      <th>2</th>\n",
              "      <td>80.0</td>\n",
              "      <td>0</td>\n",
              "      <td>1</td>\n",
              "      <td>105.92</td>\n",
              "      <td>32.5</td>\n",
              "      <td>0</td>\n",
              "      <td>0</td>\n",
              "      <td>1</td>\n",
              "      <td>0</td>\n",
              "      <td>0</td>\n",
              "      <td>1</td>\n",
              "      <td>0</td>\n",
              "      <td>0</td>\n",
              "      <td>1</td>\n",
              "      <td>0</td>\n",
              "      <td>0</td>\n",
              "      <td>1</td>\n",
              "      <td>0</td>\n",
              "      <td>0</td>\n",
              "    </tr>\n",
              "    <tr>\n",
              "      <th>3</th>\n",
              "      <td>49.0</td>\n",
              "      <td>0</td>\n",
              "      <td>0</td>\n",
              "      <td>171.23</td>\n",
              "      <td>34.4</td>\n",
              "      <td>0</td>\n",
              "      <td>0</td>\n",
              "      <td>0</td>\n",
              "      <td>1</td>\n",
              "      <td>1</td>\n",
              "      <td>0</td>\n",
              "      <td>0</td>\n",
              "      <td>0</td>\n",
              "      <td>1</td>\n",
              "      <td>0</td>\n",
              "      <td>0</td>\n",
              "      <td>1</td>\n",
              "      <td>0</td>\n",
              "      <td>0</td>\n",
              "    </tr>\n",
              "    <tr>\n",
              "      <th>4</th>\n",
              "      <td>79.0</td>\n",
              "      <td>1</td>\n",
              "      <td>0</td>\n",
              "      <td>174.12</td>\n",
              "      <td>24.0</td>\n",
              "      <td>0</td>\n",
              "      <td>0</td>\n",
              "      <td>1</td>\n",
              "      <td>0</td>\n",
              "      <td>1</td>\n",
              "      <td>0</td>\n",
              "      <td>0</td>\n",
              "      <td>0</td>\n",
              "      <td>1</td>\n",
              "      <td>0</td>\n",
              "      <td>0</td>\n",
              "      <td>0</td>\n",
              "      <td>1</td>\n",
              "      <td>0</td>\n",
              "    </tr>\n",
              "    <tr>\n",
              "      <th>5</th>\n",
              "      <td>81.0</td>\n",
              "      <td>0</td>\n",
              "      <td>0</td>\n",
              "      <td>186.21</td>\n",
              "      <td>29.0</td>\n",
              "      <td>0</td>\n",
              "      <td>1</td>\n",
              "      <td>0</td>\n",
              "      <td>0</td>\n",
              "      <td>0</td>\n",
              "      <td>1</td>\n",
              "      <td>0</td>\n",
              "      <td>0</td>\n",
              "      <td>1</td>\n",
              "      <td>0</td>\n",
              "      <td>0</td>\n",
              "      <td>1</td>\n",
              "      <td>0</td>\n",
              "      <td>0</td>\n",
              "    </tr>\n",
              "    <tr>\n",
              "      <th>...</th>\n",
              "      <td>...</td>\n",
              "      <td>...</td>\n",
              "      <td>...</td>\n",
              "      <td>...</td>\n",
              "      <td>...</td>\n",
              "      <td>...</td>\n",
              "      <td>...</td>\n",
              "      <td>...</td>\n",
              "      <td>...</td>\n",
              "      <td>...</td>\n",
              "      <td>...</td>\n",
              "      <td>...</td>\n",
              "      <td>...</td>\n",
              "      <td>...</td>\n",
              "      <td>...</td>\n",
              "      <td>...</td>\n",
              "      <td>...</td>\n",
              "      <td>...</td>\n",
              "      <td>...</td>\n",
              "    </tr>\n",
              "    <tr>\n",
              "      <th>5104</th>\n",
              "      <td>13.0</td>\n",
              "      <td>0</td>\n",
              "      <td>0</td>\n",
              "      <td>103.08</td>\n",
              "      <td>18.6</td>\n",
              "      <td>1</td>\n",
              "      <td>0</td>\n",
              "      <td>0</td>\n",
              "      <td>0</td>\n",
              "      <td>1</td>\n",
              "      <td>0</td>\n",
              "      <td>0</td>\n",
              "      <td>1</td>\n",
              "      <td>0</td>\n",
              "      <td>0</td>\n",
              "      <td>0</td>\n",
              "      <td>0</td>\n",
              "      <td>0</td>\n",
              "      <td>1</td>\n",
              "    </tr>\n",
              "    <tr>\n",
              "      <th>5106</th>\n",
              "      <td>81.0</td>\n",
              "      <td>0</td>\n",
              "      <td>0</td>\n",
              "      <td>125.20</td>\n",
              "      <td>40.0</td>\n",
              "      <td>0</td>\n",
              "      <td>0</td>\n",
              "      <td>1</td>\n",
              "      <td>0</td>\n",
              "      <td>1</td>\n",
              "      <td>0</td>\n",
              "      <td>0</td>\n",
              "      <td>0</td>\n",
              "      <td>1</td>\n",
              "      <td>0</td>\n",
              "      <td>0</td>\n",
              "      <td>0</td>\n",
              "      <td>1</td>\n",
              "      <td>0</td>\n",
              "    </tr>\n",
              "    <tr>\n",
              "      <th>5107</th>\n",
              "      <td>35.0</td>\n",
              "      <td>0</td>\n",
              "      <td>0</td>\n",
              "      <td>82.99</td>\n",
              "      <td>30.6</td>\n",
              "      <td>0</td>\n",
              "      <td>0</td>\n",
              "      <td>1</td>\n",
              "      <td>0</td>\n",
              "      <td>1</td>\n",
              "      <td>0</td>\n",
              "      <td>0</td>\n",
              "      <td>0</td>\n",
              "      <td>1</td>\n",
              "      <td>0</td>\n",
              "      <td>0</td>\n",
              "      <td>0</td>\n",
              "      <td>1</td>\n",
              "      <td>0</td>\n",
              "    </tr>\n",
              "    <tr>\n",
              "      <th>5108</th>\n",
              "      <td>51.0</td>\n",
              "      <td>0</td>\n",
              "      <td>0</td>\n",
              "      <td>166.29</td>\n",
              "      <td>25.6</td>\n",
              "      <td>0</td>\n",
              "      <td>1</td>\n",
              "      <td>0</td>\n",
              "      <td>0</td>\n",
              "      <td>0</td>\n",
              "      <td>1</td>\n",
              "      <td>0</td>\n",
              "      <td>0</td>\n",
              "      <td>1</td>\n",
              "      <td>0</td>\n",
              "      <td>0</td>\n",
              "      <td>1</td>\n",
              "      <td>0</td>\n",
              "      <td>0</td>\n",
              "    </tr>\n",
              "    <tr>\n",
              "      <th>5109</th>\n",
              "      <td>44.0</td>\n",
              "      <td>0</td>\n",
              "      <td>0</td>\n",
              "      <td>85.28</td>\n",
              "      <td>26.2</td>\n",
              "      <td>1</td>\n",
              "      <td>0</td>\n",
              "      <td>0</td>\n",
              "      <td>0</td>\n",
              "      <td>1</td>\n",
              "      <td>0</td>\n",
              "      <td>0</td>\n",
              "      <td>0</td>\n",
              "      <td>1</td>\n",
              "      <td>1</td>\n",
              "      <td>0</td>\n",
              "      <td>0</td>\n",
              "      <td>0</td>\n",
              "      <td>0</td>\n",
              "    </tr>\n",
              "  </tbody>\n",
              "</table>\n",
              "<p>4909 rows × 19 columns</p>\n",
              "</div>"
            ],
            "text/plain": [
              "       age  hypertension  ...  work_type_Self-employed  work_type_children\n",
              "0     67.0             0  ...                        0                   0\n",
              "2     80.0             0  ...                        0                   0\n",
              "3     49.0             0  ...                        0                   0\n",
              "4     79.0             1  ...                        1                   0\n",
              "5     81.0             0  ...                        0                   0\n",
              "...    ...           ...  ...                      ...                 ...\n",
              "5104  13.0             0  ...                        0                   1\n",
              "5106  81.0             0  ...                        1                   0\n",
              "5107  35.0             0  ...                        1                   0\n",
              "5108  51.0             0  ...                        0                   0\n",
              "5109  44.0             0  ...                        0                   0\n",
              "\n",
              "[4909 rows x 19 columns]"
            ]
          },
          "metadata": {},
          "execution_count": 18
        }
      ],
      "source": [
        "# Để có thể huấn luyện ta cần đưa các cột về kiểu dữ liệu là số\n",
        "x = df.iloc[:,:-1]\n",
        "y = df.iloc[:,-1]\n",
        "x = pd.get_dummies(x,columns=['smoking_status','gender','ever_married','work_type'])\n",
        "x"
      ]
    },
    {
      "cell_type": "markdown",
      "id": "a4038f5b",
      "metadata": {
        "id": "a4038f5b"
      },
      "source": [
        "### Chia dữ liệu huấn luyện"
      ]
    },
    {
      "cell_type": "code",
      "execution_count": 19,
      "id": "e290351b",
      "metadata": {
        "id": "e290351b"
      },
      "outputs": [],
      "source": [
        "from sklearn.model_selection import train_test_split\n",
        "from sklearn.metrics import accuracy_score\n",
        "X_train,X_test,y_train,y_test = train_test_split(x,y,test_size=0.2,random_state=0)"
      ]
    },
    {
      "cell_type": "code",
      "execution_count": 20,
      "id": "d8310638",
      "metadata": {
        "id": "d8310638"
      },
      "outputs": [],
      "source": [
        "from sklearn.model_selection import KFold \n",
        "from sklearn.metrics import accuracy_score\n",
        "from sklearn.preprocessing import StandardScaler\n",
        "acc_score = []\n",
        "k = 5\n",
        "kf = KFold(n_splits=k,shuffle=True)\n",
        "def Score(model,X,y):\n",
        "  scale = StandardScaler()\n",
        "  for train_index , test_index in kf.split(X):\n",
        "    X_train , X_test = X.iloc[train_index,:],X.iloc[test_index,:]\n",
        "    y_train , y_test = y.iloc[train_index] , y.iloc[test_index]\n",
        "    X_train = scale.fit_transform(X_train)\n",
        "    model.fit(X_train,y_train)\n",
        "    X_test = scale.fit_transform(X_test)\n",
        "    pred_values = model.predict(X_test)\n",
        "    acc = accuracy_score(pred_values , y_test)\n",
        "    acc_score.append(acc)\n",
        "  return sum(acc_score)/len(acc_score),acc_score"
      ]
    },
    {
      "cell_type": "markdown",
      "id": "79c95419",
      "metadata": {
        "id": "79c95419"
      },
      "source": [
        "### Cài đặt mô hình XGBoost"
      ]
    },
    {
      "cell_type": "markdown",
      "id": "7cdc3b6b",
      "metadata": {
        "id": "7cdc3b6b"
      },
      "source": [
        "* **Mô hình chưa được điều chỉnh tham số**"
      ]
    },
    {
      "cell_type": "code",
      "execution_count": 21,
      "id": "8cccdcd2",
      "metadata": {
        "id": "8cccdcd2"
      },
      "outputs": [],
      "source": [
        "from sklearn.linear_model import LogisticRegression\n",
        "from sklearn import svm\n",
        "from sklearn.neighbors import KNeighborsClassifier\n",
        "from sklearn.tree import DecisionTreeClassifier\n",
        "from sklearn.ensemble import RandomForestClassifier,AdaBoostClassifier\n",
        "from xgboost import XGBClassifier\n",
        "models = []\n",
        "models.append(['XGBClassifier',XGBClassifier()])\n",
        "models.append(['Logistic Regression',LogisticRegression()])\n",
        "models.append(['SVM',svm.SVC()])\n",
        "models.append(['KNeigbors',KNeighborsClassifier()])\n",
        "models.append(['DecisionTree',DecisionTreeClassifier()])\n",
        "models.append(['RandomForest',RandomForestClassifier()])\n",
        "models.append(['AdaBoostClassifier',AdaBoostClassifier()])"
      ]
    },
    {
      "cell_type": "code",
      "execution_count": 22,
      "id": "e78478e0",
      "metadata": {
        "colab": {
          "base_uri": "https://localhost:8080/"
        },
        "id": "e78478e0",
        "outputId": "dc490b73-5966-4f6b-fa22-25ff08fd9695"
      },
      "outputs": [
        {
          "output_type": "stream",
          "name": "stderr",
          "text": [
            "/usr/local/lib/python3.7/dist-packages/sklearn/linear_model/_logistic.py:818: ConvergenceWarning: lbfgs failed to converge (status=1):\n",
            "STOP: TOTAL NO. of ITERATIONS REACHED LIMIT.\n",
            "\n",
            "Increase the number of iterations (max_iter) or scale the data as shown in:\n",
            "    https://scikit-learn.org/stable/modules/preprocessing.html\n",
            "Please also refer to the documentation for alternative solver options:\n",
            "    https://scikit-learn.org/stable/modules/linear_model.html#logistic-regression\n",
            "  extra_warning_msg=_LOGISTIC_SOLVER_CONVERGENCE_MSG,\n"
          ]
        }
      ],
      "source": [
        "def allScore():\n",
        "  names = []\n",
        "  scores = []\n",
        "  for i in range(len(models)):\n",
        "      names.append(models[i][0])\n",
        "      model = models[i][1]\n",
        "      model.fit(X_train,y_train)\n",
        "      y_pred = model.predict(X_test)\n",
        "      scores.append(accuracy_score(y_pred,y_test))\n",
        "  return names,scores\n",
        "col_n,col_s = allScore()"
      ]
    },
    {
      "cell_type": "code",
      "execution_count": 23,
      "id": "Vcp1vhAt5zJ9",
      "metadata": {
        "colab": {
          "base_uri": "https://localhost:8080/",
          "height": 269
        },
        "id": "Vcp1vhAt5zJ9",
        "outputId": "62981a9f-264d-4745-aec5-592e903e76ca"
      },
      "outputs": [
        {
          "output_type": "execute_result",
          "data": {
            "text/html": [
              "<div>\n",
              "<style scoped>\n",
              "    .dataframe tbody tr th:only-of-type {\n",
              "        vertical-align: middle;\n",
              "    }\n",
              "\n",
              "    .dataframe tbody tr th {\n",
              "        vertical-align: top;\n",
              "    }\n",
              "\n",
              "    .dataframe thead th {\n",
              "        text-align: right;\n",
              "    }\n",
              "</style>\n",
              "<table border=\"1\" class=\"dataframe\">\n",
              "  <thead>\n",
              "    <tr style=\"text-align: right;\">\n",
              "      <th></th>\n",
              "      <th>Algorithm</th>\n",
              "      <th>Score</th>\n",
              "    </tr>\n",
              "  </thead>\n",
              "  <tbody>\n",
              "    <tr>\n",
              "      <th>0</th>\n",
              "      <td>XGBClassifier</td>\n",
              "      <td>0.956212</td>\n",
              "    </tr>\n",
              "    <tr>\n",
              "      <th>1</th>\n",
              "      <td>Logistic Regression</td>\n",
              "      <td>0.956212</td>\n",
              "    </tr>\n",
              "    <tr>\n",
              "      <th>2</th>\n",
              "      <td>SVM</td>\n",
              "      <td>0.956212</td>\n",
              "    </tr>\n",
              "    <tr>\n",
              "      <th>3</th>\n",
              "      <td>KNeigbors</td>\n",
              "      <td>0.949084</td>\n",
              "    </tr>\n",
              "    <tr>\n",
              "      <th>4</th>\n",
              "      <td>DecisionTree</td>\n",
              "      <td>0.905295</td>\n",
              "    </tr>\n",
              "    <tr>\n",
              "      <th>5</th>\n",
              "      <td>RandomForest</td>\n",
              "      <td>0.954175</td>\n",
              "    </tr>\n",
              "    <tr>\n",
              "      <th>6</th>\n",
              "      <td>AdaBoostClassifier</td>\n",
              "      <td>0.956212</td>\n",
              "    </tr>\n",
              "  </tbody>\n",
              "</table>\n",
              "</div>"
            ],
            "text/plain": [
              "             Algorithm     Score\n",
              "0        XGBClassifier  0.956212\n",
              "1  Logistic Regression  0.956212\n",
              "2                  SVM  0.956212\n",
              "3            KNeigbors  0.949084\n",
              "4         DecisionTree  0.905295\n",
              "5         RandomForest  0.954175\n",
              "6   AdaBoostClassifier  0.956212"
            ]
          },
          "metadata": {},
          "execution_count": 23
        }
      ],
      "source": [
        "data = {\n",
        "    'Algorithm' : col_n,\n",
        "    'Score' : col_s\n",
        "}\n",
        "t = pd.DataFrame(data)\n",
        "t"
      ]
    },
    {
      "cell_type": "markdown",
      "id": "lXUVEGRVbUqe",
      "metadata": {
        "id": "lXUVEGRVbUqe"
      },
      "source": [
        "* **Điều chỉnh tham số mô hình :**"
      ]
    },
    {
      "cell_type": "code",
      "execution_count": 39,
      "id": "eotYPyTpbdrX",
      "metadata": {
        "colab": {
          "base_uri": "https://localhost:8080/"
        },
        "id": "eotYPyTpbdrX",
        "outputId": "e10e2f3a-5e56-4e53-efa8-05dc85c76071"
      },
      "outputs": [
        {
          "output_type": "stream",
          "name": "stdout",
          "text": [
            "Fitting 5 folds for each of 900 candidates, totalling 4500 fits\n"
          ]
        },
        {
          "output_type": "execute_result",
          "data": {
            "text/plain": [
              "{'eta': 0.0, 'min_child_weight': 0, 'num_round': 0, 'subsample': 1.0}"
            ]
          },
          "metadata": {},
          "execution_count": 39
        }
      ],
      "source": [
        "# Tham so dung de tuning\n",
        "from sklearn.model_selection import GridSearchCV,RandomizedSearchCV\n",
        "params = {\n",
        "    'num_round' : [0,1000,2000,3000,4000],\n",
        "    'min_child_weight' : [0,20,30,50,120],\n",
        "    'eta' : [i/10 for i in range(0,6)],\n",
        "    'subsample' : [i/10 for i in range(5,11)]\n",
        "}\n",
        "def hyperParameterTuningGrid(X_train, y_train,params):\n",
        "    xgb_model = XGBClassifier()\n",
        "    gsearch = GridSearchCV(estimator = xgb_model,\n",
        "                           param_grid = params,\n",
        "                           scoring='neg_mean_squared_error', \n",
        "                   verbose = 1)\n",
        "\n",
        "    gsearch.fit(X_train,y_train)\n",
        "\n",
        "    return gsearch.best_params_\n",
        "best_pg = hyperParameterTuningGrid(X_train,y_train,params)\n",
        "best_pg"
      ]
    },
    {
      "cell_type": "code",
      "execution_count": 40,
      "id": "HEtCDSZ6eFbr",
      "metadata": {
        "id": "HEtCDSZ6eFbr",
        "colab": {
          "base_uri": "https://localhost:8080/"
        },
        "outputId": "07c994e0-1523-4733-c9d2-2121daca11c5"
      },
      "outputs": [
        {
          "output_type": "stream",
          "name": "stdout",
          "text": [
            "Fitting 5 folds for each of 25 candidates, totalling 125 fits\n"
          ]
        },
        {
          "output_type": "execute_result",
          "data": {
            "text/plain": [
              "{'eta': 0.4, 'min_child_weight': 50, 'num_round': 1000, 'subsample': 0.6}"
            ]
          },
          "metadata": {},
          "execution_count": 40
        }
      ],
      "source": [
        "def hyperParameterTuningRandom(X_train,y_train,params):\n",
        "    xgb_model = XGBClassifier()\n",
        "\n",
        "    rsearch = RandomizedSearchCV(estimator=xgb_model,\n",
        "                         param_distributions=params,\n",
        "                         scoring='neg_mean_squared_error',\n",
        "                         n_iter=25,\n",
        "                         verbose=1)\n",
        "\n",
        "    rsearch.fit(X_train,y_train)\n",
        "\n",
        "    return rsearch.best_params_\n",
        "best_pr = hyperParameterTuningRandom(X_train,y_train,params)\n",
        "best_pr"
      ]
    },
    {
      "cell_type": "code",
      "execution_count": 49,
      "id": "e3YGkvfhlSy1",
      "metadata": {
        "id": "e3YGkvfhlSy1",
        "colab": {
          "base_uri": "https://localhost:8080/"
        },
        "outputId": "ad87bc3e-f0ca-4045-c0ab-345bdc57c22f"
      },
      "outputs": [
        {
          "output_type": "stream",
          "name": "stdout",
          "text": [
            "GridSearch : 0.9570804872716343\n",
            "RandomSearch : 0.9571049830396975\n"
          ]
        }
      ],
      "source": [
        "# Sử dụng GridSearch\n",
        "model_tg = XGBClassifier(\n",
        "    min_child_weight = best_pg['min_child_weight'],\n",
        "    eta = best_pg['eta'],\n",
        "    num_round = best_pg['num_round']\n",
        ")\n",
        "model_tr = XGBClassifier(\n",
        "    min_child_weight = best_pr['min_child_weight'],\n",
        "    eta = best_pr['eta'],\n",
        "    num_round = best_pr['num_round']\n",
        ")\n",
        "score_tg,_ = Score(model_tg,x,y)\n",
        "score_tr,_ = Score(model_tr,x,y)\n",
        "print('GridSearch : {}'.format(score_tg))\n",
        "print('RandomSearch : {}'.format(score_tr))"
      ]
    },
    {
      "cell_type": "code",
      "execution_count": 44,
      "id": "kqgSyTJAROoB",
      "metadata": {
        "id": "kqgSyTJAROoB",
        "colab": {
          "base_uri": "https://localhost:8080/",
          "height": 143
        },
        "outputId": "46eb013a-ef85-476a-da9d-6fb26fc77498"
      },
      "outputs": [
        {
          "output_type": "execute_result",
          "data": {
            "text/html": [
              "<div>\n",
              "<style scoped>\n",
              "    .dataframe tbody tr th:only-of-type {\n",
              "        vertical-align: middle;\n",
              "    }\n",
              "\n",
              "    .dataframe tbody tr th {\n",
              "        vertical-align: top;\n",
              "    }\n",
              "\n",
              "    .dataframe thead th {\n",
              "        text-align: right;\n",
              "    }\n",
              "</style>\n",
              "<table border=\"1\" class=\"dataframe\">\n",
              "  <thead>\n",
              "    <tr style=\"text-align: right;\">\n",
              "      <th></th>\n",
              "      <th>XGBoost</th>\n",
              "      <th>Score</th>\n",
              "    </tr>\n",
              "  </thead>\n",
              "  <tbody>\n",
              "    <tr>\n",
              "      <th>0</th>\n",
              "      <td>Default</td>\n",
              "      <td>0.956212</td>\n",
              "    </tr>\n",
              "    <tr>\n",
              "      <th>1</th>\n",
              "      <td>Tuning GridSearch</td>\n",
              "      <td>0.957041</td>\n",
              "    </tr>\n",
              "    <tr>\n",
              "      <th>2</th>\n",
              "      <td>Tuning RandomSearch</td>\n",
              "      <td>0.957079</td>\n",
              "    </tr>\n",
              "  </tbody>\n",
              "</table>\n",
              "</div>"
            ],
            "text/plain": [
              "               XGBoost     Score\n",
              "0              Default  0.956212\n",
              "1    Tuning GridSearch  0.957041\n",
              "2  Tuning RandomSearch  0.957079"
            ]
          },
          "metadata": {},
          "execution_count": 44
        }
      ],
      "source": [
        "# Sau khi điều chỉnh một vài tham số thì độ chính xác đã được gia tắng\n",
        "data = {\n",
        "    'XGBoost' : ['Default','Tuning GridSearch','Tuning RandomSearch'],\n",
        "    'Score' : [col_s[0],score_tg,score_tr]\n",
        "}\n",
        "t = pd.DataFrame(data)\n",
        "t"
      ]
    }
  ],
  "metadata": {
    "colab": {
      "collapsed_sections": [],
      "name": "XGBoost_Classfication.ipynb",
      "provenance": []
    },
    "kernelspec": {
      "display_name": "Python 3 (ipykernel)",
      "language": "python",
      "name": "python3"
    },
    "language_info": {
      "codemirror_mode": {
        "name": "ipython",
        "version": 3
      },
      "file_extension": ".py",
      "mimetype": "text/x-python",
      "name": "python",
      "nbconvert_exporter": "python",
      "pygments_lexer": "ipython3",
      "version": "3.7.0"
    }
  },
  "nbformat": 4,
  "nbformat_minor": 5
}